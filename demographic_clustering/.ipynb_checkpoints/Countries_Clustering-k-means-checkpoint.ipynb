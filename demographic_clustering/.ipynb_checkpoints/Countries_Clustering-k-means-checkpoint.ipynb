{
 "cells": [
  {
   "cell_type": "markdown",
   "metadata": {
    "button": false,
    "new_sheet": false,
    "run_control": {
     "read_only": false
    }
   },
   "source": [
    "<h1 align=center><font size = 7><em>k</em>-means Countries Clustering</font></h1>"
   ]
  },
  {
   "cell_type": "markdown",
   "metadata": {},
   "source": [
    "<h2 align=center><font size = 5> Demographics</font></h2>"
   ]
  },
  {
   "cell_type": "markdown",
   "metadata": {},
   "source": [
    "<font size = 5> **Author**: Angelo Di Marco"
   ]
  },
  {
   "cell_type": "markdown",
   "metadata": {
    "button": false,
    "new_sheet": false,
    "run_control": {
     "read_only": false
    }
   },
   "source": [
    "## Introduction\n",
    "\n",
    "In this Notebook, we apply the *k*-means clustering technique to group selected world countries according to their *demographic data*. The dataset has been build from the data available on [WorldOMeters](https://www.worldometers.info/) which refer to the year 2019."
   ]
  },
  {
   "cell_type": "markdown",
   "metadata": {},
   "source": [
    "By clustering the demographic dataset, we want to understand how the selected countries compare demographically with each other. The answer provides a more quantitative way to establish if a country belongs to a certain demographic group or another. This is of importance, for instance, to understand the dynamics of diffusion of a desease or virus like during the Covid-19 pandemy."
   ]
  },
  {
   "cell_type": "markdown",
   "metadata": {
    "button": false,
    "new_sheet": false,
    "run_control": {
     "read_only": false
    }
   },
   "source": [
    "## Table of Contents\n",
    "\n",
    "<div class=\"alert alert-block alert-info\" style=\"margin-top: 20px\">\n",
    "\n",
    "<font size = 3>\n",
    "\n",
    "1. <a href=\"#item1\">Countries Demographic Clustering: Europe</a>\n",
    "\n",
    "    1.1 <a href=\"#item1.1\">Data loading, pre-processing, normalization</a>\n",
    "    \n",
    "    1.2 <a href=\"#item1.2\">Modeling - *k*-means clustering</a>\n",
    "    \n",
    "    1.3 <a href=\"#item1.3\">Clusters visualization: Maps</a>\n",
    "</font>\n",
    "</div>"
   ]
  },
  {
   "cell_type": "markdown",
   "metadata": {
    "button": false,
    "new_sheet": false,
    "run_control": {
     "read_only": false
    }
   },
   "source": [
    "## Libraries"
   ]
  },
  {
   "cell_type": "code",
   "execution_count": 1,
   "metadata": {
    "button": false,
    "jupyter": {
     "outputs_hidden": false
    },
    "new_sheet": false,
    "run_control": {
     "read_only": false
    }
   },
   "outputs": [
    {
     "name": "stderr",
     "output_type": "stream",
     "text": [
      "/Users/Angelo/opt/anaconda3/lib/python3.7/site-packages/sklearn/utils/deprecation.py:144: FutureWarning: The sklearn.datasets.samples_generator module is  deprecated in version 0.22 and will be removed in version 0.24. The corresponding classes / functions should instead be imported from sklearn.datasets. Anything that cannot be imported from sklearn.datasets is now part of the private API.\n",
      "  warnings.warn(message, FutureWarning)\n"
     ]
    }
   ],
   "source": [
    "import numpy as np # library for vectorized computation\n",
    "import pandas as pd # library to process data as dataframes\n",
    "\n",
    "import matplotlib.pyplot as plt # plotting library\n",
    "# backend for rendering plots within the browser\n",
    "%matplotlib inline\n",
    "\n",
    "import seaborn as sns\n",
    "\n",
    "from sklearn.cluster import KMeans \n",
    "from sklearn.datasets.samples_generator import make_blobs\n",
    "from sklearn.preprocessing import StandardScaler"
   ]
  },
  {
   "cell_type": "markdown",
   "metadata": {
    "button": false,
    "new_sheet": false,
    "run_control": {
     "read_only": false
    }
   },
   "source": [
    "<a id='item1'></a>"
   ]
  },
  {
   "cell_type": "markdown",
   "metadata": {
    "button": false,
    "new_sheet": false,
    "run_control": {
     "read_only": false
    }
   },
   "source": [
    "## 1. Countries Demographic Clustering: Europe"
   ]
  },
  {
   "cell_type": "markdown",
   "metadata": {},
   "source": [
    "In this section, we focus on some selected European countries."
   ]
  },
  {
   "cell_type": "markdown",
   "metadata": {
    "button": false,
    "new_sheet": false,
    "run_control": {
     "read_only": false
    }
   },
   "source": [
    "<a id='item1.1'></a>"
   ]
  },
  {
   "cell_type": "markdown",
   "metadata": {},
   "source": [
    "### 1.1 Data loading, pre-processing, normalization"
   ]
  },
  {
   "cell_type": "markdown",
   "metadata": {
    "button": false,
    "new_sheet": false,
    "run_control": {
     "read_only": false
    }
   },
   "source": [
    "### Loading Data"
   ]
  },
  {
   "cell_type": "markdown",
   "metadata": {
    "button": false,
    "new_sheet": false,
    "run_control": {
     "read_only": false
    }
   },
   "source": [
    "Let's load the data from the CSV file called **world-countries_demographics.csv** and read it into a *pandas* dataframe."
   ]
  },
  {
   "cell_type": "code",
   "execution_count": 2,
   "metadata": {
    "button": false,
    "jupyter": {
     "outputs_hidden": false
    },
    "new_sheet": false,
    "run_control": {
     "read_only": false
    }
   },
   "outputs": [
    {
     "data": {
      "text/html": [
       "<div>\n",
       "<style scoped>\n",
       "    .dataframe tbody tr th:only-of-type {\n",
       "        vertical-align: middle;\n",
       "    }\n",
       "\n",
       "    .dataframe tbody tr th {\n",
       "        vertical-align: top;\n",
       "    }\n",
       "\n",
       "    .dataframe thead th {\n",
       "        text-align: right;\n",
       "    }\n",
       "</style>\n",
       "<table border=\"1\" class=\"dataframe\">\n",
       "  <thead>\n",
       "    <tr style=\"text-align: right;\">\n",
       "      <th></th>\n",
       "      <th>Country</th>\n",
       "      <th>Population</th>\n",
       "      <th>Urban Population</th>\n",
       "      <th>Surface</th>\n",
       "      <th>Density</th>\n",
       "      <th>Median Age</th>\n",
       "      <th>Life Expectancy</th>\n",
       "      <th>Fertility Rate</th>\n",
       "    </tr>\n",
       "  </thead>\n",
       "  <tbody>\n",
       "    <tr>\n",
       "      <th>0</th>\n",
       "      <td>Italy</td>\n",
       "      <td>60550075</td>\n",
       "      <td>41887345</td>\n",
       "      <td>294140</td>\n",
       "      <td>206</td>\n",
       "      <td>45.7</td>\n",
       "      <td>84.01</td>\n",
       "      <td>1.40</td>\n",
       "    </tr>\n",
       "    <tr>\n",
       "      <th>1</th>\n",
       "      <td>Sweden</td>\n",
       "      <td>10036379</td>\n",
       "      <td>8817415</td>\n",
       "      <td>410340</td>\n",
       "      <td>24</td>\n",
       "      <td>40.9</td>\n",
       "      <td>83.33</td>\n",
       "      <td>1.89</td>\n",
       "    </tr>\n",
       "    <tr>\n",
       "      <th>2</th>\n",
       "      <td>Belgium</td>\n",
       "      <td>11539328</td>\n",
       "      <td>11336228</td>\n",
       "      <td>30280</td>\n",
       "      <td>381</td>\n",
       "      <td>41.5</td>\n",
       "      <td>82.17</td>\n",
       "      <td>1.77</td>\n",
       "    </tr>\n",
       "    <tr>\n",
       "      <th>3</th>\n",
       "      <td>France</td>\n",
       "      <td>65129728</td>\n",
       "      <td>52849078</td>\n",
       "      <td>547557</td>\n",
       "      <td>119</td>\n",
       "      <td>41.5</td>\n",
       "      <td>83.13</td>\n",
       "      <td>1.95</td>\n",
       "    </tr>\n",
       "    <tr>\n",
       "      <th>4</th>\n",
       "      <td>Germany</td>\n",
       "      <td>83517045</td>\n",
       "      <td>63787507</td>\n",
       "      <td>348560</td>\n",
       "      <td>240</td>\n",
       "      <td>45.9</td>\n",
       "      <td>81.88</td>\n",
       "      <td>1.46</td>\n",
       "    </tr>\n",
       "    <tr>\n",
       "      <th>5</th>\n",
       "      <td>Spain</td>\n",
       "      <td>46736776</td>\n",
       "      <td>37415111</td>\n",
       "      <td>498800</td>\n",
       "      <td>94</td>\n",
       "      <td>43.0</td>\n",
       "      <td>83.99</td>\n",
       "      <td>1.33</td>\n",
       "    </tr>\n",
       "    <tr>\n",
       "      <th>6</th>\n",
       "      <td>UK</td>\n",
       "      <td>67530172</td>\n",
       "      <td>56012276</td>\n",
       "      <td>241930</td>\n",
       "      <td>279</td>\n",
       "      <td>40.1</td>\n",
       "      <td>81.77</td>\n",
       "      <td>1.84</td>\n",
       "    </tr>\n",
       "    <tr>\n",
       "      <th>7</th>\n",
       "      <td>Norway</td>\n",
       "      <td>5378857</td>\n",
       "      <td>4462009</td>\n",
       "      <td>365268</td>\n",
       "      <td>15</td>\n",
       "      <td>39.3</td>\n",
       "      <td>82.94</td>\n",
       "      <td>1.79</td>\n",
       "    </tr>\n",
       "    <tr>\n",
       "      <th>8</th>\n",
       "      <td>Denmark</td>\n",
       "      <td>5771876</td>\n",
       "      <td>5081840</td>\n",
       "      <td>42430</td>\n",
       "      <td>136</td>\n",
       "      <td>41.7</td>\n",
       "      <td>81.40</td>\n",
       "      <td>1.74</td>\n",
       "    </tr>\n",
       "    <tr>\n",
       "      <th>9</th>\n",
       "      <td>Finland</td>\n",
       "      <td>5532156</td>\n",
       "      <td>4751986</td>\n",
       "      <td>303890</td>\n",
       "      <td>18</td>\n",
       "      <td>42.6</td>\n",
       "      <td>82.48</td>\n",
       "      <td>1.72</td>\n",
       "    </tr>\n",
       "    <tr>\n",
       "      <th>10</th>\n",
       "      <td>Portugal</td>\n",
       "      <td>10226187</td>\n",
       "      <td>6743854</td>\n",
       "      <td>91590</td>\n",
       "      <td>112</td>\n",
       "      <td>44.3</td>\n",
       "      <td>82.65</td>\n",
       "      <td>1.28</td>\n",
       "    </tr>\n",
       "    <tr>\n",
       "      <th>11</th>\n",
       "      <td>Greece</td>\n",
       "      <td>10473455</td>\n",
       "      <td>8831631</td>\n",
       "      <td>128900</td>\n",
       "      <td>81</td>\n",
       "      <td>43.8</td>\n",
       "      <td>82.80</td>\n",
       "      <td>1.34</td>\n",
       "    </tr>\n",
       "    <tr>\n",
       "      <th>12</th>\n",
       "      <td>Netherlands</td>\n",
       "      <td>17097130</td>\n",
       "      <td>15740995</td>\n",
       "      <td>33720</td>\n",
       "      <td>507</td>\n",
       "      <td>42.3</td>\n",
       "      <td>82.78</td>\n",
       "      <td>1.72</td>\n",
       "    </tr>\n",
       "    <tr>\n",
       "      <th>13</th>\n",
       "      <td>Austria</td>\n",
       "      <td>8955102</td>\n",
       "      <td>5129574</td>\n",
       "      <td>82409</td>\n",
       "      <td>109</td>\n",
       "      <td>43.3</td>\n",
       "      <td>82.05</td>\n",
       "      <td>1.46</td>\n",
       "    </tr>\n",
       "    <tr>\n",
       "      <th>14</th>\n",
       "      <td>Switzerland</td>\n",
       "      <td>8591365</td>\n",
       "      <td>6357099</td>\n",
       "      <td>39516</td>\n",
       "      <td>217</td>\n",
       "      <td>42.4</td>\n",
       "      <td>84.25</td>\n",
       "      <td>1.53</td>\n",
       "    </tr>\n",
       "    <tr>\n",
       "      <th>15</th>\n",
       "      <td>Ireland</td>\n",
       "      <td>4882495</td>\n",
       "      <td>3073341</td>\n",
       "      <td>68890</td>\n",
       "      <td>71</td>\n",
       "      <td>36.8</td>\n",
       "      <td>82.81</td>\n",
       "      <td>1.94</td>\n",
       "    </tr>\n",
       "  </tbody>\n",
       "</table>\n",
       "</div>"
      ],
      "text/plain": [
       "        Country  Population  Urban Population  Surface  Density  Median Age  \\\n",
       "0         Italy    60550075          41887345   294140      206        45.7   \n",
       "1        Sweden    10036379           8817415   410340       24        40.9   \n",
       "2       Belgium    11539328          11336228    30280      381        41.5   \n",
       "3        France    65129728          52849078   547557      119        41.5   \n",
       "4       Germany    83517045          63787507   348560      240        45.9   \n",
       "5         Spain    46736776          37415111   498800       94        43.0   \n",
       "6            UK    67530172          56012276   241930      279        40.1   \n",
       "7        Norway     5378857           4462009   365268       15        39.3   \n",
       "8       Denmark     5771876           5081840    42430      136        41.7   \n",
       "9       Finland     5532156           4751986   303890       18        42.6   \n",
       "10     Portugal    10226187           6743854    91590      112        44.3   \n",
       "11       Greece    10473455           8831631   128900       81        43.8   \n",
       "12  Netherlands    17097130          15740995    33720      507        42.3   \n",
       "13      Austria     8955102           5129574    82409      109        43.3   \n",
       "14  Switzerland     8591365           6357099    39516      217        42.4   \n",
       "15      Ireland     4882495           3073341    68890       71        36.8   \n",
       "\n",
       "    Life Expectancy  Fertility Rate  \n",
       "0             84.01            1.40  \n",
       "1             83.33            1.89  \n",
       "2             82.17            1.77  \n",
       "3             83.13            1.95  \n",
       "4             81.88            1.46  \n",
       "5             83.99            1.33  \n",
       "6             81.77            1.84  \n",
       "7             82.94            1.79  \n",
       "8             81.40            1.74  \n",
       "9             82.48            1.72  \n",
       "10            82.65            1.28  \n",
       "11            82.80            1.34  \n",
       "12            82.78            1.72  \n",
       "13            82.05            1.46  \n",
       "14            84.25            1.53  \n",
       "15            82.81            1.94  "
      ]
     },
     "execution_count": 2,
     "metadata": {},
     "output_type": "execute_result"
    }
   ],
   "source": [
    "countries_df = pd.read_csv('world-countries_demographics.csv', sep=';', thousands=',')\n",
    "countries_df.head(20)"
   ]
  },
  {
   "cell_type": "markdown",
   "metadata": {
    "button": false,
    "new_sheet": false,
    "run_control": {
     "read_only": false
    }
   },
   "source": [
    "### Pre-processing"
   ]
  },
  {
   "cell_type": "markdown",
   "metadata": {
    "button": false,
    "new_sheet": false,
    "run_control": {
     "read_only": false
    }
   },
   "source": [
    "We check the type of the loaded data"
   ]
  },
  {
   "cell_type": "code",
   "execution_count": 3,
   "metadata": {
    "button": false,
    "jupyter": {
     "outputs_hidden": false
    },
    "new_sheet": false,
    "run_control": {
     "read_only": false
    }
   },
   "outputs": [
    {
     "data": {
      "text/plain": [
       "Country              object\n",
       "Population            int64\n",
       "Urban Population      int64\n",
       "Surface               int64\n",
       "Density               int64\n",
       "Median Age          float64\n",
       "Life Expectancy     float64\n",
       "Fertility Rate      float64\n",
       "dtype: object"
      ]
     },
     "execution_count": 3,
     "metadata": {},
     "output_type": "execute_result"
    }
   ],
   "source": [
    "countries_df.dtypes"
   ]
  },
  {
   "cell_type": "markdown",
   "metadata": {},
   "source": [
    "We change the type of the selected columns into *float*"
   ]
  },
  {
   "cell_type": "code",
   "execution_count": 4,
   "metadata": {},
   "outputs": [],
   "source": [
    "countries_df[['Population','Urban Population','Surface','Density']] = countries_df[['Population','Urban Population','Surface','Density']].astype(\"float\")"
   ]
  },
  {
   "cell_type": "code",
   "execution_count": 5,
   "metadata": {},
   "outputs": [
    {
     "data": {
      "text/plain": [
       "Country              object\n",
       "Population          float64\n",
       "Urban Population    float64\n",
       "Surface             float64\n",
       "Density             float64\n",
       "Median Age          float64\n",
       "Life Expectancy     float64\n",
       "Fertility Rate      float64\n",
       "dtype: object"
      ]
     },
     "execution_count": 5,
     "metadata": {},
     "output_type": "execute_result"
    }
   ],
   "source": [
    "countries_df.dtypes"
   ]
  },
  {
   "cell_type": "markdown",
   "metadata": {},
   "source": [
    "We sort the DataFrame by *Population*"
   ]
  },
  {
   "cell_type": "code",
   "execution_count": 6,
   "metadata": {},
   "outputs": [],
   "source": [
    "countries_df.sort_values(['Population'], ascending=False, inplace=True)"
   ]
  },
  {
   "cell_type": "markdown",
   "metadata": {},
   "source": [
    "and we drop the *Surface* column"
   ]
  },
  {
   "cell_type": "code",
   "execution_count": 7,
   "metadata": {},
   "outputs": [
    {
     "data": {
      "text/html": [
       "<div>\n",
       "<style scoped>\n",
       "    .dataframe tbody tr th:only-of-type {\n",
       "        vertical-align: middle;\n",
       "    }\n",
       "\n",
       "    .dataframe tbody tr th {\n",
       "        vertical-align: top;\n",
       "    }\n",
       "\n",
       "    .dataframe thead th {\n",
       "        text-align: right;\n",
       "    }\n",
       "</style>\n",
       "<table border=\"1\" class=\"dataframe\">\n",
       "  <thead>\n",
       "    <tr style=\"text-align: right;\">\n",
       "      <th></th>\n",
       "      <th>Country</th>\n",
       "      <th>Population</th>\n",
       "      <th>Urban Population</th>\n",
       "      <th>Density</th>\n",
       "      <th>Median Age</th>\n",
       "      <th>Life Expectancy</th>\n",
       "      <th>Fertility Rate</th>\n",
       "    </tr>\n",
       "  </thead>\n",
       "  <tbody>\n",
       "    <tr>\n",
       "      <th>4</th>\n",
       "      <td>Germany</td>\n",
       "      <td>83517045.0</td>\n",
       "      <td>63787507.0</td>\n",
       "      <td>240.0</td>\n",
       "      <td>45.9</td>\n",
       "      <td>81.88</td>\n",
       "      <td>1.46</td>\n",
       "    </tr>\n",
       "    <tr>\n",
       "      <th>6</th>\n",
       "      <td>UK</td>\n",
       "      <td>67530172.0</td>\n",
       "      <td>56012276.0</td>\n",
       "      <td>279.0</td>\n",
       "      <td>40.1</td>\n",
       "      <td>81.77</td>\n",
       "      <td>1.84</td>\n",
       "    </tr>\n",
       "    <tr>\n",
       "      <th>3</th>\n",
       "      <td>France</td>\n",
       "      <td>65129728.0</td>\n",
       "      <td>52849078.0</td>\n",
       "      <td>119.0</td>\n",
       "      <td>41.5</td>\n",
       "      <td>83.13</td>\n",
       "      <td>1.95</td>\n",
       "    </tr>\n",
       "    <tr>\n",
       "      <th>0</th>\n",
       "      <td>Italy</td>\n",
       "      <td>60550075.0</td>\n",
       "      <td>41887345.0</td>\n",
       "      <td>206.0</td>\n",
       "      <td>45.7</td>\n",
       "      <td>84.01</td>\n",
       "      <td>1.40</td>\n",
       "    </tr>\n",
       "    <tr>\n",
       "      <th>5</th>\n",
       "      <td>Spain</td>\n",
       "      <td>46736776.0</td>\n",
       "      <td>37415111.0</td>\n",
       "      <td>94.0</td>\n",
       "      <td>43.0</td>\n",
       "      <td>83.99</td>\n",
       "      <td>1.33</td>\n",
       "    </tr>\n",
       "  </tbody>\n",
       "</table>\n",
       "</div>"
      ],
      "text/plain": [
       "   Country  Population  Urban Population  Density  Median Age  \\\n",
       "4  Germany  83517045.0        63787507.0    240.0        45.9   \n",
       "6       UK  67530172.0        56012276.0    279.0        40.1   \n",
       "3   France  65129728.0        52849078.0    119.0        41.5   \n",
       "0    Italy  60550075.0        41887345.0    206.0        45.7   \n",
       "5    Spain  46736776.0        37415111.0     94.0        43.0   \n",
       "\n",
       "   Life Expectancy  Fertility Rate  \n",
       "4            81.88            1.46  \n",
       "6            81.77            1.84  \n",
       "3            83.13            1.95  \n",
       "0            84.01            1.40  \n",
       "5            83.99            1.33  "
      ]
     },
     "execution_count": 7,
     "metadata": {},
     "output_type": "execute_result"
    }
   ],
   "source": [
    "countries_df.drop(['Surface'], axis=1, inplace=True)\n",
    "countries_df.head()"
   ]
  },
  {
   "cell_type": "markdown",
   "metadata": {},
   "source": [
    "### Normalization"
   ]
  },
  {
   "cell_type": "markdown",
   "metadata": {
    "button": false,
    "new_sheet": false,
    "run_control": {
     "read_only": false
    }
   },
   "source": [
    "Now let's normalize the dataset. But why do we need normalization in the first place? Normalization is a statistical method that helps mathematical-based algorithms interpret features with different magnitudes and distributions equally. We use **StandardScaler()** to normalize our dataset."
   ]
  },
  {
   "cell_type": "code",
   "execution_count": 8,
   "metadata": {
    "button": false,
    "jupyter": {
     "outputs_hidden": false
    },
    "new_sheet": false,
    "run_control": {
     "read_only": false
    }
   },
   "outputs": [
    {
     "data": {
      "text/plain": [
       "array([[ 2.13045719,  2.06041481,  0.58118725,  1.65884023, -1.1166475 ,\n",
       "        -0.78233047],\n",
       "       [ 1.53444393,  1.68802672,  0.87579394, -0.93711885, -1.2535068 ,\n",
       "         0.91644427],\n",
       "       [ 1.44495198,  1.53652804, -0.33284891, -0.31050804,  0.43857186,\n",
       "         1.40819485],\n",
       "       [ 1.27421604,  1.01152515,  0.32435064,  1.5693244 ,  1.53344629,\n",
       "        -1.05055806],\n",
       "       [ 0.7592367 ,  0.7973313 , -0.52169936,  0.36086069,  1.50856278,\n",
       "        -1.36349025],\n",
       "       [-0.34577125, -0.24073207,  2.59811   ,  0.04755528,  0.00311044,\n",
       "         0.37998909],\n",
       "       [-0.55297398, -0.45169465,  1.64630376, -0.31050804, -0.75583661,\n",
       "         0.60351208],\n",
       "       [-0.59271123, -0.57165019, -0.61990159,  0.71892401,  0.02799395,\n",
       "        -1.31878565],\n",
       "       [-0.60192973, -0.6716425 , -0.38572703,  0.94271359, -0.15863237,\n",
       "        -1.58701325],\n",
       "       [-0.60900604, -0.57233106, -1.0504806 , -0.57905553,  0.68740696,\n",
       "         1.13996726],\n",
       "       [-0.64931758, -0.74895707, -0.40838909,  0.49513444, -0.90513767,\n",
       "        -0.78233047],\n",
       "       [-0.66287821, -0.6901658 ,  0.40744484,  0.0923132 ,  1.8320484 ,\n",
       "        -0.46939828],\n",
       "       [-0.76799275, -0.75124325, -0.20443061, -0.22099221, -1.71385173,\n",
       "         0.46939828],\n",
       "       [-0.77692985, -0.76704132, -1.09580471,  0.18182903, -0.37014221,\n",
       "         0.37998909],\n",
       "       [-0.78264506, -0.78092953, -1.11846676, -1.29518217,  0.20217852,\n",
       "         0.69292128],\n",
       "       [-0.80115014, -0.8474386 , -0.69544177, -2.41413005,  0.0404357 ,\n",
       "         1.36349025]])"
      ]
     },
     "execution_count": 8,
     "metadata": {},
     "output_type": "execute_result"
    }
   ],
   "source": [
    "X = countries_df.values[:,1:]\n",
    "X = np.nan_to_num(X)\n",
    "cluster_dataset = StandardScaler().fit_transform(X)\n",
    "cluster_dataset"
   ]
  },
  {
   "cell_type": "markdown",
   "metadata": {},
   "source": [
    "----------------"
   ]
  },
  {
   "cell_type": "markdown",
   "metadata": {
    "button": false,
    "new_sheet": false,
    "run_control": {
     "read_only": false
    }
   },
   "source": [
    "<a id='item1.2'></a>"
   ]
  },
  {
   "cell_type": "markdown",
   "metadata": {},
   "source": [
    "### 1.2 Modeling - *k*-means clustering"
   ]
  },
  {
   "cell_type": "markdown",
   "metadata": {},
   "source": [
    "### Which *k* ?"
   ]
  },
  {
   "cell_type": "markdown",
   "metadata": {},
   "source": [
    "How many clusters should we group these colleges into? We can use the elbow method to decide. Plot the sum of squared distances of the data points from their cluster's center for increasing numbers of clusters and see if you can find a clear cluster number where the decrease in distortion starts to level off."
   ]
  },
  {
   "cell_type": "code",
   "execution_count": 9,
   "metadata": {},
   "outputs": [],
   "source": [
    "inertia = []\n",
    "K = range(1,10)\n",
    "for kkk in K:\n",
    "    kmeanModel = KMeans(init=\"k-means++\", n_clusters=kkk, n_init=100)\n",
    "    kmeanModel.fit(cluster_dataset)\n",
    "    inertia.append(kmeanModel.inertia_)"
   ]
  },
  {
   "cell_type": "code",
   "execution_count": 10,
   "metadata": {},
   "outputs": [
    {
     "data": {
      "image/png": "[encoded data removed]",
      "text/plain": [
       "<Figure size 432x288 with 1 Axes>"
      ]
     },
     "metadata": {
      "needs_background": "light"
     },
     "output_type": "display_data"
    }
   ],
   "source": [
    "plt.plot(K, inertia, 'bx-')\n",
    "plt.xlabel('k')\n",
    "plt.ylabel('Inertia')\n",
    "plt.show()"
   ]
  },
  {
   "cell_type": "markdown",
   "metadata": {},
   "source": [
    "The elbow method shows that the number of clusters *k* should be 2, 4 or 5. In the following, we test all these possibilities."
   ]
  },
  {
   "cell_type": "markdown",
   "metadata": {},
   "source": [
    "------------"
   ]
  },
  {
   "cell_type": "markdown",
   "metadata": {
    "button": false,
    "new_sheet": false,
    "run_control": {
     "read_only": false
    }
   },
   "source": [
    "### Modeling --- *k* = 2"
   ]
  },
  {
   "cell_type": "markdown",
   "metadata": {
    "button": false,
    "new_sheet": false,
    "run_control": {
     "read_only": false
    }
   },
   "source": [
    "Let's run our model and group our customers into three clusters."
   ]
  },
  {
   "cell_type": "code",
   "execution_count": 11,
   "metadata": {},
   "outputs": [
    {
     "name": "stdout",
     "output_type": "stream",
     "text": [
      "[1 1 1 1 1 0 0 0 0 0 0 0 0 0 0 0]\n"
     ]
    }
   ],
   "source": [
    "num_clusters = 2\n",
    "\n",
    "k_means = KMeans(init=\"k-means++\", n_clusters=num_clusters, n_init=100)\n",
    "k_means.fit(cluster_dataset)\n",
    "labels = k_means.labels_\n",
    "\n",
    "print(labels)"
   ]
  },
  {
   "cell_type": "markdown",
   "metadata": {},
   "source": [
    "<h3 id=\"insights\">Insights</h3>"
   ]
  },
  {
   "cell_type": "markdown",
   "metadata": {
    "button": false,
    "new_sheet": false,
    "run_control": {
     "read_only": false
    }
   },
   "source": [
    "Note that each row in our dataset represents a customer, and therefore, each row is assigned a label."
   ]
  },
  {
   "cell_type": "code",
   "execution_count": 12,
   "metadata": {
    "button": false,
    "jupyter": {
     "outputs_hidden": false
    },
    "new_sheet": false,
    "run_control": {
     "read_only": false
    }
   },
   "outputs": [
    {
     "data": {
      "text/html": [
       "<div>\n",
       "<style scoped>\n",
       "    .dataframe tbody tr th:only-of-type {\n",
       "        vertical-align: middle;\n",
       "    }\n",
       "\n",
       "    .dataframe tbody tr th {\n",
       "        vertical-align: top;\n",
       "    }\n",
       "\n",
       "    .dataframe thead th {\n",
       "        text-align: right;\n",
       "    }\n",
       "</style>\n",
       "<table border=\"1\" class=\"dataframe\">\n",
       "  <thead>\n",
       "    <tr style=\"text-align: right;\">\n",
       "      <th></th>\n",
       "      <th>Country</th>\n",
       "      <th>Population</th>\n",
       "      <th>Urban Population</th>\n",
       "      <th>Density</th>\n",
       "      <th>Median Age</th>\n",
       "      <th>Life Expectancy</th>\n",
       "      <th>Fertility Rate</th>\n",
       "      <th>Labels</th>\n",
       "    </tr>\n",
       "  </thead>\n",
       "  <tbody>\n",
       "    <tr>\n",
       "      <th>12</th>\n",
       "      <td>Netherlands</td>\n",
       "      <td>17097130.0</td>\n",
       "      <td>15740995.0</td>\n",
       "      <td>507.0</td>\n",
       "      <td>42.3</td>\n",
       "      <td>82.78</td>\n",
       "      <td>1.72</td>\n",
       "      <td>0</td>\n",
       "    </tr>\n",
       "    <tr>\n",
       "      <th>2</th>\n",
       "      <td>Belgium</td>\n",
       "      <td>11539328.0</td>\n",
       "      <td>11336228.0</td>\n",
       "      <td>381.0</td>\n",
       "      <td>41.5</td>\n",
       "      <td>82.17</td>\n",
       "      <td>1.77</td>\n",
       "      <td>0</td>\n",
       "    </tr>\n",
       "    <tr>\n",
       "      <th>11</th>\n",
       "      <td>Greece</td>\n",
       "      <td>10473455.0</td>\n",
       "      <td>8831631.0</td>\n",
       "      <td>81.0</td>\n",
       "      <td>43.8</td>\n",
       "      <td>82.80</td>\n",
       "      <td>1.34</td>\n",
       "      <td>0</td>\n",
       "    </tr>\n",
       "    <tr>\n",
       "      <th>10</th>\n",
       "      <td>Portugal</td>\n",
       "      <td>10226187.0</td>\n",
       "      <td>6743854.0</td>\n",
       "      <td>112.0</td>\n",
       "      <td>44.3</td>\n",
       "      <td>82.65</td>\n",
       "      <td>1.28</td>\n",
       "      <td>0</td>\n",
       "    </tr>\n",
       "    <tr>\n",
       "      <th>1</th>\n",
       "      <td>Sweden</td>\n",
       "      <td>10036379.0</td>\n",
       "      <td>8817415.0</td>\n",
       "      <td>24.0</td>\n",
       "      <td>40.9</td>\n",
       "      <td>83.33</td>\n",
       "      <td>1.89</td>\n",
       "      <td>0</td>\n",
       "    </tr>\n",
       "    <tr>\n",
       "      <th>13</th>\n",
       "      <td>Austria</td>\n",
       "      <td>8955102.0</td>\n",
       "      <td>5129574.0</td>\n",
       "      <td>109.0</td>\n",
       "      <td>43.3</td>\n",
       "      <td>82.05</td>\n",
       "      <td>1.46</td>\n",
       "      <td>0</td>\n",
       "    </tr>\n",
       "    <tr>\n",
       "      <th>14</th>\n",
       "      <td>Switzerland</td>\n",
       "      <td>8591365.0</td>\n",
       "      <td>6357099.0</td>\n",
       "      <td>217.0</td>\n",
       "      <td>42.4</td>\n",
       "      <td>84.25</td>\n",
       "      <td>1.53</td>\n",
       "      <td>0</td>\n",
       "    </tr>\n",
       "    <tr>\n",
       "      <th>8</th>\n",
       "      <td>Denmark</td>\n",
       "      <td>5771876.0</td>\n",
       "      <td>5081840.0</td>\n",
       "      <td>136.0</td>\n",
       "      <td>41.7</td>\n",
       "      <td>81.40</td>\n",
       "      <td>1.74</td>\n",
       "      <td>0</td>\n",
       "    </tr>\n",
       "    <tr>\n",
       "      <th>9</th>\n",
       "      <td>Finland</td>\n",
       "      <td>5532156.0</td>\n",
       "      <td>4751986.0</td>\n",
       "      <td>18.0</td>\n",
       "      <td>42.6</td>\n",
       "      <td>82.48</td>\n",
       "      <td>1.72</td>\n",
       "      <td>0</td>\n",
       "    </tr>\n",
       "    <tr>\n",
       "      <th>7</th>\n",
       "      <td>Norway</td>\n",
       "      <td>5378857.0</td>\n",
       "      <td>4462009.0</td>\n",
       "      <td>15.0</td>\n",
       "      <td>39.3</td>\n",
       "      <td>82.94</td>\n",
       "      <td>1.79</td>\n",
       "      <td>0</td>\n",
       "    </tr>\n",
       "    <tr>\n",
       "      <th>15</th>\n",
       "      <td>Ireland</td>\n",
       "      <td>4882495.0</td>\n",
       "      <td>3073341.0</td>\n",
       "      <td>71.0</td>\n",
       "      <td>36.8</td>\n",
       "      <td>82.81</td>\n",
       "      <td>1.94</td>\n",
       "      <td>0</td>\n",
       "    </tr>\n",
       "    <tr>\n",
       "      <th>4</th>\n",
       "      <td>Germany</td>\n",
       "      <td>83517045.0</td>\n",
       "      <td>63787507.0</td>\n",
       "      <td>240.0</td>\n",
       "      <td>45.9</td>\n",
       "      <td>81.88</td>\n",
       "      <td>1.46</td>\n",
       "      <td>1</td>\n",
       "    </tr>\n",
       "    <tr>\n",
       "      <th>6</th>\n",
       "      <td>UK</td>\n",
       "      <td>67530172.0</td>\n",
       "      <td>56012276.0</td>\n",
       "      <td>279.0</td>\n",
       "      <td>40.1</td>\n",
       "      <td>81.77</td>\n",
       "      <td>1.84</td>\n",
       "      <td>1</td>\n",
       "    </tr>\n",
       "    <tr>\n",
       "      <th>3</th>\n",
       "      <td>France</td>\n",
       "      <td>65129728.0</td>\n",
       "      <td>52849078.0</td>\n",
       "      <td>119.0</td>\n",
       "      <td>41.5</td>\n",
       "      <td>83.13</td>\n",
       "      <td>1.95</td>\n",
       "      <td>1</td>\n",
       "    </tr>\n",
       "    <tr>\n",
       "      <th>0</th>\n",
       "      <td>Italy</td>\n",
       "      <td>60550075.0</td>\n",
       "      <td>41887345.0</td>\n",
       "      <td>206.0</td>\n",
       "      <td>45.7</td>\n",
       "      <td>84.01</td>\n",
       "      <td>1.40</td>\n",
       "      <td>1</td>\n",
       "    </tr>\n",
       "    <tr>\n",
       "      <th>5</th>\n",
       "      <td>Spain</td>\n",
       "      <td>46736776.0</td>\n",
       "      <td>37415111.0</td>\n",
       "      <td>94.0</td>\n",
       "      <td>43.0</td>\n",
       "      <td>83.99</td>\n",
       "      <td>1.33</td>\n",
       "      <td>1</td>\n",
       "    </tr>\n",
       "  </tbody>\n",
       "</table>\n",
       "</div>"
      ],
      "text/plain": [
       "        Country  Population  Urban Population  Density  Median Age  \\\n",
       "12  Netherlands  17097130.0        15740995.0    507.0        42.3   \n",
       "2       Belgium  11539328.0        11336228.0    381.0        41.5   \n",
       "11       Greece  10473455.0         8831631.0     81.0        43.8   \n",
       "10     Portugal  10226187.0         6743854.0    112.0        44.3   \n",
       "1        Sweden  10036379.0         8817415.0     24.0        40.9   \n",
       "13      Austria   8955102.0         5129574.0    109.0        43.3   \n",
       "14  Switzerland   8591365.0         6357099.0    217.0        42.4   \n",
       "8       Denmark   5771876.0         5081840.0    136.0        41.7   \n",
       "9       Finland   5532156.0         4751986.0     18.0        42.6   \n",
       "7        Norway   5378857.0         4462009.0     15.0        39.3   \n",
       "15      Ireland   4882495.0         3073341.0     71.0        36.8   \n",
       "4       Germany  83517045.0        63787507.0    240.0        45.9   \n",
       "6            UK  67530172.0        56012276.0    279.0        40.1   \n",
       "3        France  65129728.0        52849078.0    119.0        41.5   \n",
       "0         Italy  60550075.0        41887345.0    206.0        45.7   \n",
       "5         Spain  46736776.0        37415111.0     94.0        43.0   \n",
       "\n",
       "    Life Expectancy  Fertility Rate  Labels  \n",
       "12            82.78            1.72       0  \n",
       "2             82.17            1.77       0  \n",
       "11            82.80            1.34       0  \n",
       "10            82.65            1.28       0  \n",
       "1             83.33            1.89       0  \n",
       "13            82.05            1.46       0  \n",
       "14            84.25            1.53       0  \n",
       "8             81.40            1.74       0  \n",
       "9             82.48            1.72       0  \n",
       "7             82.94            1.79       0  \n",
       "15            82.81            1.94       0  \n",
       "4             81.88            1.46       1  \n",
       "6             81.77            1.84       1  \n",
       "3             83.13            1.95       1  \n",
       "0             84.01            1.40       1  \n",
       "5             83.99            1.33       1  "
      ]
     },
     "execution_count": 12,
     "metadata": {},
     "output_type": "execute_result"
    }
   ],
   "source": [
    "countries_df_k2 = countries_df.copy()\n",
    "countries_df_k2[\"Labels\"] = labels\n",
    "countries_df_k2.sort_values(['Labels'], ascending=True)"
   ]
  },
  {
   "cell_type": "markdown",
   "metadata": {
    "button": false,
    "new_sheet": false,
    "run_control": {
     "read_only": false
    }
   },
   "source": [
    "We can easily check the centroid values by averaging the features in each cluster."
   ]
  },
  {
   "cell_type": "code",
   "execution_count": 13,
   "metadata": {
    "button": false,
    "jupyter": {
     "outputs_hidden": false
    },
    "new_sheet": false,
    "run_control": {
     "read_only": false
    }
   },
   "outputs": [
    {
     "data": {
      "text/html": [
       "<div>\n",
       "<style scoped>\n",
       "    .dataframe tbody tr th:only-of-type {\n",
       "        vertical-align: middle;\n",
       "    }\n",
       "\n",
       "    .dataframe tbody tr th {\n",
       "        vertical-align: top;\n",
       "    }\n",
       "\n",
       "    .dataframe thead th {\n",
       "        text-align: right;\n",
       "    }\n",
       "</style>\n",
       "<table border=\"1\" class=\"dataframe\">\n",
       "  <thead>\n",
       "    <tr style=\"text-align: right;\">\n",
       "      <th></th>\n",
       "      <th>Population</th>\n",
       "      <th>Urban Population</th>\n",
       "      <th>Density</th>\n",
       "      <th>Median Age</th>\n",
       "      <th>Life Expectancy</th>\n",
       "      <th>Fertility Rate</th>\n",
       "    </tr>\n",
       "    <tr>\n",
       "      <th>Labels</th>\n",
       "      <th></th>\n",
       "      <th></th>\n",
       "      <th></th>\n",
       "      <th></th>\n",
       "      <th></th>\n",
       "      <th></th>\n",
       "    </tr>\n",
       "  </thead>\n",
       "  <tbody>\n",
       "    <tr>\n",
       "      <th>0</th>\n",
       "      <td>8.953121e+06</td>\n",
       "      <td>7.302361e+06</td>\n",
       "      <td>151.909091</td>\n",
       "      <td>41.718182</td>\n",
       "      <td>82.696364</td>\n",
       "      <td>1.652727</td>\n",
       "    </tr>\n",
       "    <tr>\n",
       "      <th>1</th>\n",
       "      <td>6.469276e+07</td>\n",
       "      <td>5.039026e+07</td>\n",
       "      <td>187.600000</td>\n",
       "      <td>43.240000</td>\n",
       "      <td>82.956000</td>\n",
       "      <td>1.596000</td>\n",
       "    </tr>\n",
       "  </tbody>\n",
       "</table>\n",
       "</div>"
      ],
      "text/plain": [
       "          Population  Urban Population     Density  Median Age  \\\n",
       "Labels                                                           \n",
       "0       8.953121e+06      7.302361e+06  151.909091   41.718182   \n",
       "1       6.469276e+07      5.039026e+07  187.600000   43.240000   \n",
       "\n",
       "        Life Expectancy  Fertility Rate  \n",
       "Labels                                   \n",
       "0             82.696364        1.652727  \n",
       "1             82.956000        1.596000  "
      ]
     },
     "execution_count": 13,
     "metadata": {},
     "output_type": "execute_result"
    }
   ],
   "source": [
    "countries_df_k2.groupby('Labels').mean()"
   ]
  },
  {
   "cell_type": "code",
   "execution_count": 14,
   "metadata": {},
   "outputs": [
    {
     "data": {
      "text/plain": [
       "<seaborn.axisgrid.FacetGrid at 0x7fd1d520f190>"
      ]
     },
     "execution_count": 14,
     "metadata": {},
     "output_type": "execute_result"
    },
    {
     "data": {
      "image/png": "[encoded data removed]",
      "text/plain": [
       "<Figure size 402.375x360 with 1 Axes>"
      ]
     },
     "metadata": {
      "needs_background": "light"
     },
     "output_type": "display_data"
    }
   ],
   "source": [
    "plot = sns.lmplot(x='Country',y='Density',data=countries_df_k2,hue='Labels',fit_reg=False)\n",
    "plot.set_xticklabels(rotation=90)"
   ]
  },
  {
   "cell_type": "code",
   "execution_count": 15,
   "metadata": {},
   "outputs": [
    {
     "data": {
      "text/plain": [
       "<seaborn.axisgrid.FacetGrid at 0x7fd1d5378690>"
      ]
     },
     "execution_count": 15,
     "metadata": {},
     "output_type": "execute_result"
    },
    {
     "data": {
      "image/png": "[encoded data removed]",
      "text/plain": [
       "<Figure size 402.375x360 with 1 Axes>"
      ]
     },
     "metadata": {
      "needs_background": "light"
     },
     "output_type": "display_data"
    }
   ],
   "source": [
    "plot = sns.lmplot(x='Country',y='Median Age',data=countries_df_k2,hue='Labels',fit_reg=False)\n",
    "plot.set_xticklabels(rotation=90)"
   ]
  },
  {
   "cell_type": "code",
   "execution_count": 16,
   "metadata": {},
   "outputs": [
    {
     "data": {
      "text/plain": [
       "<seaborn.axisgrid.FacetGrid at 0x7fd1d5563810>"
      ]
     },
     "execution_count": 16,
     "metadata": {},
     "output_type": "execute_result"
    },
    {
     "data": {
      "image/png": "[encoded data removed]",
      "text/plain": [
       "<Figure size 402.375x360 with 1 Axes>"
      ]
     },
     "metadata": {
      "needs_background": "light"
     },
     "output_type": "display_data"
    }
   ],
   "source": [
    "plot = sns.lmplot(x='Country',y='Life Expectancy',data=countries_df_k2,hue='Labels',fit_reg=False)\n",
    "plot.set_xticklabels(rotation=90)"
   ]
  },
  {
   "cell_type": "markdown",
   "metadata": {},
   "source": [
    "-------------------------------"
   ]
  },
  {
   "cell_type": "markdown",
   "metadata": {
    "button": false,
    "new_sheet": false,
    "run_control": {
     "read_only": false
    }
   },
   "source": [
    "### Modeling --- *k* = 3"
   ]
  },
  {
   "cell_type": "markdown",
   "metadata": {
    "button": false,
    "new_sheet": false,
    "run_control": {
     "read_only": false
    }
   },
   "source": [
    "Let's run our model and group our customers into three clusters."
   ]
  },
  {
   "cell_type": "code",
   "execution_count": 17,
   "metadata": {},
   "outputs": [
    {
     "name": "stdout",
     "output_type": "stream",
     "text": [
      "[0 0 0 2 2 1 1 2 2 1 1 2 1 1 1 1]\n"
     ]
    }
   ],
   "source": [
    "num_clusters = 3\n",
    "\n",
    "k_means = KMeans(init=\"k-means++\", n_clusters=num_clusters, n_init=100)\n",
    "k_means.fit(cluster_dataset)\n",
    "labels = k_means.labels_\n",
    "\n",
    "print(labels)"
   ]
  },
  {
   "cell_type": "markdown",
   "metadata": {},
   "source": [
    "<h3 id=\"insights\">Insights</h3>"
   ]
  },
  {
   "cell_type": "markdown",
   "metadata": {
    "button": false,
    "new_sheet": false,
    "run_control": {
     "read_only": false
    }
   },
   "source": [
    "Note that each row in our dataset represents a customer, and therefore, each row is assigned a label."
   ]
  },
  {
   "cell_type": "code",
   "execution_count": 18,
   "metadata": {
    "button": false,
    "jupyter": {
     "outputs_hidden": false
    },
    "new_sheet": false,
    "run_control": {
     "read_only": false
    }
   },
   "outputs": [
    {
     "data": {
      "text/html": [
       "<div>\n",
       "<style scoped>\n",
       "    .dataframe tbody tr th:only-of-type {\n",
       "        vertical-align: middle;\n",
       "    }\n",
       "\n",
       "    .dataframe tbody tr th {\n",
       "        vertical-align: top;\n",
       "    }\n",
       "\n",
       "    .dataframe thead th {\n",
       "        text-align: right;\n",
       "    }\n",
       "</style>\n",
       "<table border=\"1\" class=\"dataframe\">\n",
       "  <thead>\n",
       "    <tr style=\"text-align: right;\">\n",
       "      <th></th>\n",
       "      <th>Country</th>\n",
       "      <th>Population</th>\n",
       "      <th>Urban Population</th>\n",
       "      <th>Density</th>\n",
       "      <th>Median Age</th>\n",
       "      <th>Life Expectancy</th>\n",
       "      <th>Fertility Rate</th>\n",
       "      <th>Labels</th>\n",
       "    </tr>\n",
       "  </thead>\n",
       "  <tbody>\n",
       "    <tr>\n",
       "      <th>4</th>\n",
       "      <td>Germany</td>\n",
       "      <td>83517045.0</td>\n",
       "      <td>63787507.0</td>\n",
       "      <td>240.0</td>\n",
       "      <td>45.9</td>\n",
       "      <td>81.88</td>\n",
       "      <td>1.46</td>\n",
       "      <td>0</td>\n",
       "    </tr>\n",
       "    <tr>\n",
       "      <th>6</th>\n",
       "      <td>UK</td>\n",
       "      <td>67530172.0</td>\n",
       "      <td>56012276.0</td>\n",
       "      <td>279.0</td>\n",
       "      <td>40.1</td>\n",
       "      <td>81.77</td>\n",
       "      <td>1.84</td>\n",
       "      <td>0</td>\n",
       "    </tr>\n",
       "    <tr>\n",
       "      <th>3</th>\n",
       "      <td>France</td>\n",
       "      <td>65129728.0</td>\n",
       "      <td>52849078.0</td>\n",
       "      <td>119.0</td>\n",
       "      <td>41.5</td>\n",
       "      <td>83.13</td>\n",
       "      <td>1.95</td>\n",
       "      <td>0</td>\n",
       "    </tr>\n",
       "    <tr>\n",
       "      <th>12</th>\n",
       "      <td>Netherlands</td>\n",
       "      <td>17097130.0</td>\n",
       "      <td>15740995.0</td>\n",
       "      <td>507.0</td>\n",
       "      <td>42.3</td>\n",
       "      <td>82.78</td>\n",
       "      <td>1.72</td>\n",
       "      <td>1</td>\n",
       "    </tr>\n",
       "    <tr>\n",
       "      <th>2</th>\n",
       "      <td>Belgium</td>\n",
       "      <td>11539328.0</td>\n",
       "      <td>11336228.0</td>\n",
       "      <td>381.0</td>\n",
       "      <td>41.5</td>\n",
       "      <td>82.17</td>\n",
       "      <td>1.77</td>\n",
       "      <td>1</td>\n",
       "    </tr>\n",
       "    <tr>\n",
       "      <th>1</th>\n",
       "      <td>Sweden</td>\n",
       "      <td>10036379.0</td>\n",
       "      <td>8817415.0</td>\n",
       "      <td>24.0</td>\n",
       "      <td>40.9</td>\n",
       "      <td>83.33</td>\n",
       "      <td>1.89</td>\n",
       "      <td>1</td>\n",
       "    </tr>\n",
       "    <tr>\n",
       "      <th>13</th>\n",
       "      <td>Austria</td>\n",
       "      <td>8955102.0</td>\n",
       "      <td>5129574.0</td>\n",
       "      <td>109.0</td>\n",
       "      <td>43.3</td>\n",
       "      <td>82.05</td>\n",
       "      <td>1.46</td>\n",
       "      <td>1</td>\n",
       "    </tr>\n",
       "    <tr>\n",
       "      <th>8</th>\n",
       "      <td>Denmark</td>\n",
       "      <td>5771876.0</td>\n",
       "      <td>5081840.0</td>\n",
       "      <td>136.0</td>\n",
       "      <td>41.7</td>\n",
       "      <td>81.40</td>\n",
       "      <td>1.74</td>\n",
       "      <td>1</td>\n",
       "    </tr>\n",
       "    <tr>\n",
       "      <th>9</th>\n",
       "      <td>Finland</td>\n",
       "      <td>5532156.0</td>\n",
       "      <td>4751986.0</td>\n",
       "      <td>18.0</td>\n",
       "      <td>42.6</td>\n",
       "      <td>82.48</td>\n",
       "      <td>1.72</td>\n",
       "      <td>1</td>\n",
       "    </tr>\n",
       "    <tr>\n",
       "      <th>7</th>\n",
       "      <td>Norway</td>\n",
       "      <td>5378857.0</td>\n",
       "      <td>4462009.0</td>\n",
       "      <td>15.0</td>\n",
       "      <td>39.3</td>\n",
       "      <td>82.94</td>\n",
       "      <td>1.79</td>\n",
       "      <td>1</td>\n",
       "    </tr>\n",
       "    <tr>\n",
       "      <th>15</th>\n",
       "      <td>Ireland</td>\n",
       "      <td>4882495.0</td>\n",
       "      <td>3073341.0</td>\n",
       "      <td>71.0</td>\n",
       "      <td>36.8</td>\n",
       "      <td>82.81</td>\n",
       "      <td>1.94</td>\n",
       "      <td>1</td>\n",
       "    </tr>\n",
       "    <tr>\n",
       "      <th>0</th>\n",
       "      <td>Italy</td>\n",
       "      <td>60550075.0</td>\n",
       "      <td>41887345.0</td>\n",
       "      <td>206.0</td>\n",
       "      <td>45.7</td>\n",
       "      <td>84.01</td>\n",
       "      <td>1.40</td>\n",
       "      <td>2</td>\n",
       "    </tr>\n",
       "    <tr>\n",
       "      <th>5</th>\n",
       "      <td>Spain</td>\n",
       "      <td>46736776.0</td>\n",
       "      <td>37415111.0</td>\n",
       "      <td>94.0</td>\n",
       "      <td>43.0</td>\n",
       "      <td>83.99</td>\n",
       "      <td>1.33</td>\n",
       "      <td>2</td>\n",
       "    </tr>\n",
       "    <tr>\n",
       "      <th>11</th>\n",
       "      <td>Greece</td>\n",
       "      <td>10473455.0</td>\n",
       "      <td>8831631.0</td>\n",
       "      <td>81.0</td>\n",
       "      <td>43.8</td>\n",
       "      <td>82.80</td>\n",
       "      <td>1.34</td>\n",
       "      <td>2</td>\n",
       "    </tr>\n",
       "    <tr>\n",
       "      <th>10</th>\n",
       "      <td>Portugal</td>\n",
       "      <td>10226187.0</td>\n",
       "      <td>6743854.0</td>\n",
       "      <td>112.0</td>\n",
       "      <td>44.3</td>\n",
       "      <td>82.65</td>\n",
       "      <td>1.28</td>\n",
       "      <td>2</td>\n",
       "    </tr>\n",
       "    <tr>\n",
       "      <th>14</th>\n",
       "      <td>Switzerland</td>\n",
       "      <td>8591365.0</td>\n",
       "      <td>6357099.0</td>\n",
       "      <td>217.0</td>\n",
       "      <td>42.4</td>\n",
       "      <td>84.25</td>\n",
       "      <td>1.53</td>\n",
       "      <td>2</td>\n",
       "    </tr>\n",
       "  </tbody>\n",
       "</table>\n",
       "</div>"
      ],
      "text/plain": [
       "        Country  Population  Urban Population  Density  Median Age  \\\n",
       "4       Germany  83517045.0        63787507.0    240.0        45.9   \n",
       "6            UK  67530172.0        56012276.0    279.0        40.1   \n",
       "3        France  65129728.0        52849078.0    119.0        41.5   \n",
       "12  Netherlands  17097130.0        15740995.0    507.0        42.3   \n",
       "2       Belgium  11539328.0        11336228.0    381.0        41.5   \n",
       "1        Sweden  10036379.0         8817415.0     24.0        40.9   \n",
       "13      Austria   8955102.0         5129574.0    109.0        43.3   \n",
       "8       Denmark   5771876.0         5081840.0    136.0        41.7   \n",
       "9       Finland   5532156.0         4751986.0     18.0        42.6   \n",
       "7        Norway   5378857.0         4462009.0     15.0        39.3   \n",
       "15      Ireland   4882495.0         3073341.0     71.0        36.8   \n",
       "0         Italy  60550075.0        41887345.0    206.0        45.7   \n",
       "5         Spain  46736776.0        37415111.0     94.0        43.0   \n",
       "11       Greece  10473455.0         8831631.0     81.0        43.8   \n",
       "10     Portugal  10226187.0         6743854.0    112.0        44.3   \n",
       "14  Switzerland   8591365.0         6357099.0    217.0        42.4   \n",
       "\n",
       "    Life Expectancy  Fertility Rate  Labels  \n",
       "4             81.88            1.46       0  \n",
       "6             81.77            1.84       0  \n",
       "3             83.13            1.95       0  \n",
       "12            82.78            1.72       1  \n",
       "2             82.17            1.77       1  \n",
       "1             83.33            1.89       1  \n",
       "13            82.05            1.46       1  \n",
       "8             81.40            1.74       1  \n",
       "9             82.48            1.72       1  \n",
       "7             82.94            1.79       1  \n",
       "15            82.81            1.94       1  \n",
       "0             84.01            1.40       2  \n",
       "5             83.99            1.33       2  \n",
       "11            82.80            1.34       2  \n",
       "10            82.65            1.28       2  \n",
       "14            84.25            1.53       2  "
      ]
     },
     "execution_count": 18,
     "metadata": {},
     "output_type": "execute_result"
    }
   ],
   "source": [
    "countries_df_k3 = countries_df.copy()\n",
    "countries_df_k3[\"Labels\"] = labels\n",
    "countries_df_k3.sort_values(['Labels'], ascending=True)"
   ]
  },
  {
   "cell_type": "markdown",
   "metadata": {
    "button": false,
    "new_sheet": false,
    "run_control": {
     "read_only": false
    }
   },
   "source": [
    "We can easily check the centroid values by averaging the features in each cluster."
   ]
  },
  {
   "cell_type": "code",
   "execution_count": 19,
   "metadata": {
    "button": false,
    "jupyter": {
     "outputs_hidden": false
    },
    "new_sheet": false,
    "run_control": {
     "read_only": false
    }
   },
   "outputs": [
    {
     "data": {
      "text/html": [
       "<div>\n",
       "<style scoped>\n",
       "    .dataframe tbody tr th:only-of-type {\n",
       "        vertical-align: middle;\n",
       "    }\n",
       "\n",
       "    .dataframe tbody tr th {\n",
       "        vertical-align: top;\n",
       "    }\n",
       "\n",
       "    .dataframe thead th {\n",
       "        text-align: right;\n",
       "    }\n",
       "</style>\n",
       "<table border=\"1\" class=\"dataframe\">\n",
       "  <thead>\n",
       "    <tr style=\"text-align: right;\">\n",
       "      <th></th>\n",
       "      <th>Population</th>\n",
       "      <th>Urban Population</th>\n",
       "      <th>Density</th>\n",
       "      <th>Median Age</th>\n",
       "      <th>Life Expectancy</th>\n",
       "      <th>Fertility Rate</th>\n",
       "    </tr>\n",
       "    <tr>\n",
       "      <th>Labels</th>\n",
       "      <th></th>\n",
       "      <th></th>\n",
       "      <th></th>\n",
       "      <th></th>\n",
       "      <th></th>\n",
       "      <th></th>\n",
       "    </tr>\n",
       "  </thead>\n",
       "  <tbody>\n",
       "    <tr>\n",
       "      <th>0</th>\n",
       "      <td>7.205898e+07</td>\n",
       "      <td>5.754962e+07</td>\n",
       "      <td>212.666667</td>\n",
       "      <td>42.50</td>\n",
       "      <td>82.260</td>\n",
       "      <td>1.75000</td>\n",
       "    </tr>\n",
       "    <tr>\n",
       "      <th>1</th>\n",
       "      <td>8.649165e+06</td>\n",
       "      <td>7.299174e+06</td>\n",
       "      <td>157.625000</td>\n",
       "      <td>41.05</td>\n",
       "      <td>82.495</td>\n",
       "      <td>1.75375</td>\n",
       "    </tr>\n",
       "    <tr>\n",
       "      <th>2</th>\n",
       "      <td>2.731557e+07</td>\n",
       "      <td>2.024701e+07</td>\n",
       "      <td>142.000000</td>\n",
       "      <td>43.84</td>\n",
       "      <td>83.540</td>\n",
       "      <td>1.37600</td>\n",
       "    </tr>\n",
       "  </tbody>\n",
       "</table>\n",
       "</div>"
      ],
      "text/plain": [
       "          Population  Urban Population     Density  Median Age  \\\n",
       "Labels                                                           \n",
       "0       7.205898e+07      5.754962e+07  212.666667       42.50   \n",
       "1       8.649165e+06      7.299174e+06  157.625000       41.05   \n",
       "2       2.731557e+07      2.024701e+07  142.000000       43.84   \n",
       "\n",
       "        Life Expectancy  Fertility Rate  \n",
       "Labels                                   \n",
       "0                82.260         1.75000  \n",
       "1                82.495         1.75375  \n",
       "2                83.540         1.37600  "
      ]
     },
     "execution_count": 19,
     "metadata": {},
     "output_type": "execute_result"
    }
   ],
   "source": [
    "countries_df_k3.groupby('Labels').mean()"
   ]
  },
  {
   "cell_type": "code",
   "execution_count": 20,
   "metadata": {},
   "outputs": [
    {
     "data": {
      "text/plain": [
       "<seaborn.axisgrid.FacetGrid at 0x7fd1d5751c50>"
      ]
     },
     "execution_count": 20,
     "metadata": {},
     "output_type": "execute_result"
    },
    {
     "data": {
      "image/png": "[encoded data removed]",
      "text/plain": [
       "<Figure size 402.375x360 with 1 Axes>"
      ]
     },
     "metadata": {
      "needs_background": "light"
     },
     "output_type": "display_data"
    }
   ],
   "source": [
    "plot = sns.lmplot(x='Country',y='Density',data=countries_df_k3,hue='Labels',fit_reg=False)\n",
    "plot.set_xticklabels(rotation=90)"
   ]
  },
  {
   "cell_type": "code",
   "execution_count": 21,
   "metadata": {},
   "outputs": [
    {
     "data": {
      "text/plain": [
       "<seaborn.axisgrid.FacetGrid at 0x7fd1d5751f50>"
      ]
     },
     "execution_count": 21,
     "metadata": {},
     "output_type": "execute_result"
    },
    {
     "data": {
      "image/png": "[encoded data removed]",
      "text/plain": [
       "<Figure size 402.375x360 with 1 Axes>"
      ]
     },
     "metadata": {
      "needs_background": "light"
     },
     "output_type": "display_data"
    }
   ],
   "source": [
    "plot = sns.lmplot(x='Country',y='Median Age',data=countries_df_k3,hue='Labels',fit_reg=False)\n",
    "plot.set_xticklabels(rotation=90)"
   ]
  },
  {
   "cell_type": "code",
   "execution_count": 22,
   "metadata": {},
   "outputs": [
    {
     "data": {
      "text/plain": [
       "<seaborn.axisgrid.FacetGrid at 0x7fd1d59539d0>"
      ]
     },
     "execution_count": 22,
     "metadata": {},
     "output_type": "execute_result"
    },
    {
     "data": {
      "image/png": "[encoded data removed]",
      "text/plain": [
       "<Figure size 402.375x360 with 1 Axes>"
      ]
     },
     "metadata": {
      "needs_background": "light"
     },
     "output_type": "display_data"
    }
   ],
   "source": [
    "plot = sns.lmplot(x='Country',y='Life Expectancy',data=countries_df_k3,hue='Labels',fit_reg=False)\n",
    "plot.set_xticklabels(rotation=90)"
   ]
  },
  {
   "cell_type": "markdown",
   "metadata": {},
   "source": [
    "-------------------"
   ]
  },
  {
   "cell_type": "markdown",
   "metadata": {
    "button": false,
    "new_sheet": false,
    "run_control": {
     "read_only": false
    }
   },
   "source": [
    "### Modeling --- *k* = 4"
   ]
  },
  {
   "cell_type": "markdown",
   "metadata": {
    "button": false,
    "new_sheet": false,
    "run_control": {
     "read_only": false
    }
   },
   "source": [
    "Let's run our model and group our customers into three clusters."
   ]
  },
  {
   "cell_type": "code",
   "execution_count": 23,
   "metadata": {},
   "outputs": [
    {
     "name": "stdout",
     "output_type": "stream",
     "text": [
      "[0 0 0 1 1 3 3 1 1 2 1 1 2 2 2 2]\n"
     ]
    }
   ],
   "source": [
    "num_clusters = 4\n",
    "\n",
    "k_means = KMeans(init=\"k-means++\", n_clusters=num_clusters, n_init=100)\n",
    "k_means.fit(cluster_dataset)\n",
    "labels = k_means.labels_\n",
    "\n",
    "print(labels)"
   ]
  },
  {
   "cell_type": "markdown",
   "metadata": {},
   "source": [
    "<h3 id=\"insights\">Insights</h3>"
   ]
  },
  {
   "cell_type": "markdown",
   "metadata": {
    "button": false,
    "new_sheet": false,
    "run_control": {
     "read_only": false
    }
   },
   "source": [
    "Note that each row in our dataset represents a customer, and therefore, each row is assigned a label."
   ]
  },
  {
   "cell_type": "code",
   "execution_count": 24,
   "metadata": {
    "button": false,
    "jupyter": {
     "outputs_hidden": false
    },
    "new_sheet": false,
    "run_control": {
     "read_only": false
    }
   },
   "outputs": [
    {
     "data": {
      "text/html": [
       "<div>\n",
       "<style scoped>\n",
       "    .dataframe tbody tr th:only-of-type {\n",
       "        vertical-align: middle;\n",
       "    }\n",
       "\n",
       "    .dataframe tbody tr th {\n",
       "        vertical-align: top;\n",
       "    }\n",
       "\n",
       "    .dataframe thead th {\n",
       "        text-align: right;\n",
       "    }\n",
       "</style>\n",
       "<table border=\"1\" class=\"dataframe\">\n",
       "  <thead>\n",
       "    <tr style=\"text-align: right;\">\n",
       "      <th></th>\n",
       "      <th>Country</th>\n",
       "      <th>Population</th>\n",
       "      <th>Urban Population</th>\n",
       "      <th>Density</th>\n",
       "      <th>Median Age</th>\n",
       "      <th>Life Expectancy</th>\n",
       "      <th>Fertility Rate</th>\n",
       "      <th>Labels</th>\n",
       "    </tr>\n",
       "  </thead>\n",
       "  <tbody>\n",
       "    <tr>\n",
       "      <th>4</th>\n",
       "      <td>Germany</td>\n",
       "      <td>83517045.0</td>\n",
       "      <td>63787507.0</td>\n",
       "      <td>240.0</td>\n",
       "      <td>45.9</td>\n",
       "      <td>81.88</td>\n",
       "      <td>1.46</td>\n",
       "      <td>0</td>\n",
       "    </tr>\n",
       "    <tr>\n",
       "      <th>6</th>\n",
       "      <td>UK</td>\n",
       "      <td>67530172.0</td>\n",
       "      <td>56012276.0</td>\n",
       "      <td>279.0</td>\n",
       "      <td>40.1</td>\n",
       "      <td>81.77</td>\n",
       "      <td>1.84</td>\n",
       "      <td>0</td>\n",
       "    </tr>\n",
       "    <tr>\n",
       "      <th>3</th>\n",
       "      <td>France</td>\n",
       "      <td>65129728.0</td>\n",
       "      <td>52849078.0</td>\n",
       "      <td>119.0</td>\n",
       "      <td>41.5</td>\n",
       "      <td>83.13</td>\n",
       "      <td>1.95</td>\n",
       "      <td>0</td>\n",
       "    </tr>\n",
       "    <tr>\n",
       "      <th>0</th>\n",
       "      <td>Italy</td>\n",
       "      <td>60550075.0</td>\n",
       "      <td>41887345.0</td>\n",
       "      <td>206.0</td>\n",
       "      <td>45.7</td>\n",
       "      <td>84.01</td>\n",
       "      <td>1.40</td>\n",
       "      <td>1</td>\n",
       "    </tr>\n",
       "    <tr>\n",
       "      <th>5</th>\n",
       "      <td>Spain</td>\n",
       "      <td>46736776.0</td>\n",
       "      <td>37415111.0</td>\n",
       "      <td>94.0</td>\n",
       "      <td>43.0</td>\n",
       "      <td>83.99</td>\n",
       "      <td>1.33</td>\n",
       "      <td>1</td>\n",
       "    </tr>\n",
       "    <tr>\n",
       "      <th>11</th>\n",
       "      <td>Greece</td>\n",
       "      <td>10473455.0</td>\n",
       "      <td>8831631.0</td>\n",
       "      <td>81.0</td>\n",
       "      <td>43.8</td>\n",
       "      <td>82.80</td>\n",
       "      <td>1.34</td>\n",
       "      <td>1</td>\n",
       "    </tr>\n",
       "    <tr>\n",
       "      <th>10</th>\n",
       "      <td>Portugal</td>\n",
       "      <td>10226187.0</td>\n",
       "      <td>6743854.0</td>\n",
       "      <td>112.0</td>\n",
       "      <td>44.3</td>\n",
       "      <td>82.65</td>\n",
       "      <td>1.28</td>\n",
       "      <td>1</td>\n",
       "    </tr>\n",
       "    <tr>\n",
       "      <th>13</th>\n",
       "      <td>Austria</td>\n",
       "      <td>8955102.0</td>\n",
       "      <td>5129574.0</td>\n",
       "      <td>109.0</td>\n",
       "      <td>43.3</td>\n",
       "      <td>82.05</td>\n",
       "      <td>1.46</td>\n",
       "      <td>1</td>\n",
       "    </tr>\n",
       "    <tr>\n",
       "      <th>14</th>\n",
       "      <td>Switzerland</td>\n",
       "      <td>8591365.0</td>\n",
       "      <td>6357099.0</td>\n",
       "      <td>217.0</td>\n",
       "      <td>42.4</td>\n",
       "      <td>84.25</td>\n",
       "      <td>1.53</td>\n",
       "      <td>1</td>\n",
       "    </tr>\n",
       "    <tr>\n",
       "      <th>1</th>\n",
       "      <td>Sweden</td>\n",
       "      <td>10036379.0</td>\n",
       "      <td>8817415.0</td>\n",
       "      <td>24.0</td>\n",
       "      <td>40.9</td>\n",
       "      <td>83.33</td>\n",
       "      <td>1.89</td>\n",
       "      <td>2</td>\n",
       "    </tr>\n",
       "    <tr>\n",
       "      <th>8</th>\n",
       "      <td>Denmark</td>\n",
       "      <td>5771876.0</td>\n",
       "      <td>5081840.0</td>\n",
       "      <td>136.0</td>\n",
       "      <td>41.7</td>\n",
       "      <td>81.40</td>\n",
       "      <td>1.74</td>\n",
       "      <td>2</td>\n",
       "    </tr>\n",
       "    <tr>\n",
       "      <th>9</th>\n",
       "      <td>Finland</td>\n",
       "      <td>5532156.0</td>\n",
       "      <td>4751986.0</td>\n",
       "      <td>18.0</td>\n",
       "      <td>42.6</td>\n",
       "      <td>82.48</td>\n",
       "      <td>1.72</td>\n",
       "      <td>2</td>\n",
       "    </tr>\n",
       "    <tr>\n",
       "      <th>7</th>\n",
       "      <td>Norway</td>\n",
       "      <td>5378857.0</td>\n",
       "      <td>4462009.0</td>\n",
       "      <td>15.0</td>\n",
       "      <td>39.3</td>\n",
       "      <td>82.94</td>\n",
       "      <td>1.79</td>\n",
       "      <td>2</td>\n",
       "    </tr>\n",
       "    <tr>\n",
       "      <th>15</th>\n",
       "      <td>Ireland</td>\n",
       "      <td>4882495.0</td>\n",
       "      <td>3073341.0</td>\n",
       "      <td>71.0</td>\n",
       "      <td>36.8</td>\n",
       "      <td>82.81</td>\n",
       "      <td>1.94</td>\n",
       "      <td>2</td>\n",
       "    </tr>\n",
       "    <tr>\n",
       "      <th>12</th>\n",
       "      <td>Netherlands</td>\n",
       "      <td>17097130.0</td>\n",
       "      <td>15740995.0</td>\n",
       "      <td>507.0</td>\n",
       "      <td>42.3</td>\n",
       "      <td>82.78</td>\n",
       "      <td>1.72</td>\n",
       "      <td>3</td>\n",
       "    </tr>\n",
       "    <tr>\n",
       "      <th>2</th>\n",
       "      <td>Belgium</td>\n",
       "      <td>11539328.0</td>\n",
       "      <td>11336228.0</td>\n",
       "      <td>381.0</td>\n",
       "      <td>41.5</td>\n",
       "      <td>82.17</td>\n",
       "      <td>1.77</td>\n",
       "      <td>3</td>\n",
       "    </tr>\n",
       "  </tbody>\n",
       "</table>\n",
       "</div>"
      ],
      "text/plain": [
       "        Country  Population  Urban Population  Density  Median Age  \\\n",
       "4       Germany  83517045.0        63787507.0    240.0        45.9   \n",
       "6            UK  67530172.0        56012276.0    279.0        40.1   \n",
       "3        France  65129728.0        52849078.0    119.0        41.5   \n",
       "0         Italy  60550075.0        41887345.0    206.0        45.7   \n",
       "5         Spain  46736776.0        37415111.0     94.0        43.0   \n",
       "11       Greece  10473455.0         8831631.0     81.0        43.8   \n",
       "10     Portugal  10226187.0         6743854.0    112.0        44.3   \n",
       "13      Austria   8955102.0         5129574.0    109.0        43.3   \n",
       "14  Switzerland   8591365.0         6357099.0    217.0        42.4   \n",
       "1        Sweden  10036379.0         8817415.0     24.0        40.9   \n",
       "8       Denmark   5771876.0         5081840.0    136.0        41.7   \n",
       "9       Finland   5532156.0         4751986.0     18.0        42.6   \n",
       "7        Norway   5378857.0         4462009.0     15.0        39.3   \n",
       "15      Ireland   4882495.0         3073341.0     71.0        36.8   \n",
       "12  Netherlands  17097130.0        15740995.0    507.0        42.3   \n",
       "2       Belgium  11539328.0        11336228.0    381.0        41.5   \n",
       "\n",
       "    Life Expectancy  Fertility Rate  Labels  \n",
       "4             81.88            1.46       0  \n",
       "6             81.77            1.84       0  \n",
       "3             83.13            1.95       0  \n",
       "0             84.01            1.40       1  \n",
       "5             83.99            1.33       1  \n",
       "11            82.80            1.34       1  \n",
       "10            82.65            1.28       1  \n",
       "13            82.05            1.46       1  \n",
       "14            84.25            1.53       1  \n",
       "1             83.33            1.89       2  \n",
       "8             81.40            1.74       2  \n",
       "9             82.48            1.72       2  \n",
       "7             82.94            1.79       2  \n",
       "15            82.81            1.94       2  \n",
       "12            82.78            1.72       3  \n",
       "2             82.17            1.77       3  "
      ]
     },
     "execution_count": 24,
     "metadata": {},
     "output_type": "execute_result"
    }
   ],
   "source": [
    "countries_df_k4 = countries_df.copy()\n",
    "countries_df_k4[\"Labels\"] = labels\n",
    "countries_df_k4.sort_values(['Labels'], ascending=True)"
   ]
  },
  {
   "cell_type": "markdown",
   "metadata": {
    "button": false,
    "new_sheet": false,
    "run_control": {
     "read_only": false
    }
   },
   "source": [
    "We can easily check the centroid values by averaging the features in each cluster."
   ]
  },
  {
   "cell_type": "code",
   "execution_count": 25,
   "metadata": {
    "button": false,
    "jupyter": {
     "outputs_hidden": false
    },
    "new_sheet": false,
    "run_control": {
     "read_only": false
    },
    "scrolled": true
   },
   "outputs": [
    {
     "data": {
      "text/html": [
       "<div>\n",
       "<style scoped>\n",
       "    .dataframe tbody tr th:only-of-type {\n",
       "        vertical-align: middle;\n",
       "    }\n",
       "\n",
       "    .dataframe tbody tr th {\n",
       "        vertical-align: top;\n",
       "    }\n",
       "\n",
       "    .dataframe thead th {\n",
       "        text-align: right;\n",
       "    }\n",
       "</style>\n",
       "<table border=\"1\" class=\"dataframe\">\n",
       "  <thead>\n",
       "    <tr style=\"text-align: right;\">\n",
       "      <th></th>\n",
       "      <th>Population</th>\n",
       "      <th>Urban Population</th>\n",
       "      <th>Density</th>\n",
       "      <th>Median Age</th>\n",
       "      <th>Life Expectancy</th>\n",
       "      <th>Fertility Rate</th>\n",
       "    </tr>\n",
       "    <tr>\n",
       "      <th>Labels</th>\n",
       "      <th></th>\n",
       "      <th></th>\n",
       "      <th></th>\n",
       "      <th></th>\n",
       "      <th></th>\n",
       "      <th></th>\n",
       "    </tr>\n",
       "  </thead>\n",
       "  <tbody>\n",
       "    <tr>\n",
       "      <th>0</th>\n",
       "      <td>7.205898e+07</td>\n",
       "      <td>5.754962e+07</td>\n",
       "      <td>212.666667</td>\n",
       "      <td>42.50</td>\n",
       "      <td>82.260000</td>\n",
       "      <td>1.750</td>\n",
       "    </tr>\n",
       "    <tr>\n",
       "      <th>1</th>\n",
       "      <td>2.425549e+07</td>\n",
       "      <td>1.772744e+07</td>\n",
       "      <td>136.500000</td>\n",
       "      <td>43.75</td>\n",
       "      <td>83.291667</td>\n",
       "      <td>1.390</td>\n",
       "    </tr>\n",
       "    <tr>\n",
       "      <th>2</th>\n",
       "      <td>6.320353e+06</td>\n",
       "      <td>5.237318e+06</td>\n",
       "      <td>52.800000</td>\n",
       "      <td>40.26</td>\n",
       "      <td>82.592000</td>\n",
       "      <td>1.816</td>\n",
       "    </tr>\n",
       "    <tr>\n",
       "      <th>3</th>\n",
       "      <td>1.431823e+07</td>\n",
       "      <td>1.353861e+07</td>\n",
       "      <td>444.000000</td>\n",
       "      <td>41.90</td>\n",
       "      <td>82.475000</td>\n",
       "      <td>1.745</td>\n",
       "    </tr>\n",
       "  </tbody>\n",
       "</table>\n",
       "</div>"
      ],
      "text/plain": [
       "          Population  Urban Population     Density  Median Age  \\\n",
       "Labels                                                           \n",
       "0       7.205898e+07      5.754962e+07  212.666667       42.50   \n",
       "1       2.425549e+07      1.772744e+07  136.500000       43.75   \n",
       "2       6.320353e+06      5.237318e+06   52.800000       40.26   \n",
       "3       1.431823e+07      1.353861e+07  444.000000       41.90   \n",
       "\n",
       "        Life Expectancy  Fertility Rate  \n",
       "Labels                                   \n",
       "0             82.260000           1.750  \n",
       "1             83.291667           1.390  \n",
       "2             82.592000           1.816  \n",
       "3             82.475000           1.745  "
      ]
     },
     "execution_count": 25,
     "metadata": {},
     "output_type": "execute_result"
    }
   ],
   "source": [
    "countries_df_k4.groupby('Labels').mean()"
   ]
  },
  {
   "cell_type": "code",
   "execution_count": 26,
   "metadata": {},
   "outputs": [
    {
     "data": {
      "text/plain": [
       "<seaborn.axisgrid.FacetGrid at 0x7fd1d593e710>"
      ]
     },
     "execution_count": 26,
     "metadata": {},
     "output_type": "execute_result"
    },
    {
     "data": {
      "image/png": "[encoded data removed]",
      "text/plain": [
       "<Figure size 402.375x360 with 1 Axes>"
      ]
     },
     "metadata": {
      "needs_background": "light"
     },
     "output_type": "display_data"
    }
   ],
   "source": [
    "plot = sns.lmplot(x='Country',y='Density',data=countries_df_k4,hue='Labels',fit_reg=False)\n",
    "plot.set_xticklabels(rotation=90)"
   ]
  },
  {
   "cell_type": "code",
   "execution_count": 27,
   "metadata": {},
   "outputs": [
    {
     "data": {
      "text/plain": [
       "<seaborn.axisgrid.FacetGrid at 0x7fd1d5e21a90>"
      ]
     },
     "execution_count": 27,
     "metadata": {},
     "output_type": "execute_result"
    },
    {
     "data": {
      "image/png": "[encoded data removed]",
      "text/plain": [
       "<Figure size 402.375x360 with 1 Axes>"
      ]
     },
     "metadata": {
      "needs_background": "light"
     },
     "output_type": "display_data"
    }
   ],
   "source": [
    "plot = sns.lmplot(x='Country',y='Median Age',data=countries_df_k4,hue='Labels',fit_reg=False)\n",
    "plot.set_xticklabels(rotation=90)"
   ]
  },
  {
   "cell_type": "code",
   "execution_count": 28,
   "metadata": {},
   "outputs": [
    {
     "data": {
      "text/plain": [
       "<seaborn.axisgrid.FacetGrid at 0x7fd1d6011090>"
      ]
     },
     "execution_count": 28,
     "metadata": {},
     "output_type": "execute_result"
    },
    {
     "data": {
      "image/png": "[encoded data removed]",
      "text/plain": [
       "<Figure size 402.375x360 with 1 Axes>"
      ]
     },
     "metadata": {
      "needs_background": "light"
     },
     "output_type": "display_data"
    }
   ],
   "source": [
    "plot = sns.lmplot(x='Country',y='Life Expectancy',data=countries_df_k4,hue='Labels',fit_reg=False)\n",
    "plot.set_xticklabels(rotation=90)"
   ]
  },
  {
   "cell_type": "markdown",
   "metadata": {},
   "source": [
    "----------------"
   ]
  },
  {
   "cell_type": "markdown",
   "metadata": {
    "button": false,
    "new_sheet": false,
    "run_control": {
     "read_only": false
    }
   },
   "source": [
    "### Modeling --- *k* = 5"
   ]
  },
  {
   "cell_type": "markdown",
   "metadata": {
    "button": false,
    "new_sheet": false,
    "run_control": {
     "read_only": false
    }
   },
   "source": [
    "Let's run our model and group our customers into three clusters."
   ]
  },
  {
   "cell_type": "code",
   "execution_count": 29,
   "metadata": {},
   "outputs": [
    {
     "name": "stdout",
     "output_type": "stream",
     "text": [
      "[2 2 2 0 0 3 3 1 1 4 1 0 1 1 4 4]\n"
     ]
    }
   ],
   "source": [
    "num_clusters = 5\n",
    "\n",
    "k_means = KMeans(init=\"k-means++\", n_clusters=num_clusters, n_init=100)\n",
    "k_means.fit(cluster_dataset)\n",
    "labels = k_means.labels_\n",
    "\n",
    "print(labels)"
   ]
  },
  {
   "cell_type": "markdown",
   "metadata": {},
   "source": [
    "<h3 id=\"insights\">Insights</h3>"
   ]
  },
  {
   "cell_type": "markdown",
   "metadata": {
    "button": false,
    "new_sheet": false,
    "run_control": {
     "read_only": false
    }
   },
   "source": [
    "Note that each row in our dataset represents a customer, and therefore, each row is assigned a label."
   ]
  },
  {
   "cell_type": "code",
   "execution_count": 30,
   "metadata": {
    "button": false,
    "jupyter": {
     "outputs_hidden": false
    },
    "new_sheet": false,
    "run_control": {
     "read_only": false
    }
   },
   "outputs": [
    {
     "data": {
      "text/html": [
       "<div>\n",
       "<style scoped>\n",
       "    .dataframe tbody tr th:only-of-type {\n",
       "        vertical-align: middle;\n",
       "    }\n",
       "\n",
       "    .dataframe tbody tr th {\n",
       "        vertical-align: top;\n",
       "    }\n",
       "\n",
       "    .dataframe thead th {\n",
       "        text-align: right;\n",
       "    }\n",
       "</style>\n",
       "<table border=\"1\" class=\"dataframe\">\n",
       "  <thead>\n",
       "    <tr style=\"text-align: right;\">\n",
       "      <th></th>\n",
       "      <th>Country</th>\n",
       "      <th>Population</th>\n",
       "      <th>Urban Population</th>\n",
       "      <th>Density</th>\n",
       "      <th>Median Age</th>\n",
       "      <th>Life Expectancy</th>\n",
       "      <th>Fertility Rate</th>\n",
       "      <th>Labels</th>\n",
       "    </tr>\n",
       "  </thead>\n",
       "  <tbody>\n",
       "    <tr>\n",
       "      <th>0</th>\n",
       "      <td>Italy</td>\n",
       "      <td>60550075.0</td>\n",
       "      <td>41887345.0</td>\n",
       "      <td>206.0</td>\n",
       "      <td>45.7</td>\n",
       "      <td>84.01</td>\n",
       "      <td>1.40</td>\n",
       "      <td>0</td>\n",
       "    </tr>\n",
       "    <tr>\n",
       "      <th>5</th>\n",
       "      <td>Spain</td>\n",
       "      <td>46736776.0</td>\n",
       "      <td>37415111.0</td>\n",
       "      <td>94.0</td>\n",
       "      <td>43.0</td>\n",
       "      <td>83.99</td>\n",
       "      <td>1.33</td>\n",
       "      <td>0</td>\n",
       "    </tr>\n",
       "    <tr>\n",
       "      <th>14</th>\n",
       "      <td>Switzerland</td>\n",
       "      <td>8591365.0</td>\n",
       "      <td>6357099.0</td>\n",
       "      <td>217.0</td>\n",
       "      <td>42.4</td>\n",
       "      <td>84.25</td>\n",
       "      <td>1.53</td>\n",
       "      <td>0</td>\n",
       "    </tr>\n",
       "    <tr>\n",
       "      <th>11</th>\n",
       "      <td>Greece</td>\n",
       "      <td>10473455.0</td>\n",
       "      <td>8831631.0</td>\n",
       "      <td>81.0</td>\n",
       "      <td>43.8</td>\n",
       "      <td>82.80</td>\n",
       "      <td>1.34</td>\n",
       "      <td>1</td>\n",
       "    </tr>\n",
       "    <tr>\n",
       "      <th>10</th>\n",
       "      <td>Portugal</td>\n",
       "      <td>10226187.0</td>\n",
       "      <td>6743854.0</td>\n",
       "      <td>112.0</td>\n",
       "      <td>44.3</td>\n",
       "      <td>82.65</td>\n",
       "      <td>1.28</td>\n",
       "      <td>1</td>\n",
       "    </tr>\n",
       "    <tr>\n",
       "      <th>13</th>\n",
       "      <td>Austria</td>\n",
       "      <td>8955102.0</td>\n",
       "      <td>5129574.0</td>\n",
       "      <td>109.0</td>\n",
       "      <td>43.3</td>\n",
       "      <td>82.05</td>\n",
       "      <td>1.46</td>\n",
       "      <td>1</td>\n",
       "    </tr>\n",
       "    <tr>\n",
       "      <th>8</th>\n",
       "      <td>Denmark</td>\n",
       "      <td>5771876.0</td>\n",
       "      <td>5081840.0</td>\n",
       "      <td>136.0</td>\n",
       "      <td>41.7</td>\n",
       "      <td>81.40</td>\n",
       "      <td>1.74</td>\n",
       "      <td>1</td>\n",
       "    </tr>\n",
       "    <tr>\n",
       "      <th>9</th>\n",
       "      <td>Finland</td>\n",
       "      <td>5532156.0</td>\n",
       "      <td>4751986.0</td>\n",
       "      <td>18.0</td>\n",
       "      <td>42.6</td>\n",
       "      <td>82.48</td>\n",
       "      <td>1.72</td>\n",
       "      <td>1</td>\n",
       "    </tr>\n",
       "    <tr>\n",
       "      <th>4</th>\n",
       "      <td>Germany</td>\n",
       "      <td>83517045.0</td>\n",
       "      <td>63787507.0</td>\n",
       "      <td>240.0</td>\n",
       "      <td>45.9</td>\n",
       "      <td>81.88</td>\n",
       "      <td>1.46</td>\n",
       "      <td>2</td>\n",
       "    </tr>\n",
       "    <tr>\n",
       "      <th>6</th>\n",
       "      <td>UK</td>\n",
       "      <td>67530172.0</td>\n",
       "      <td>56012276.0</td>\n",
       "      <td>279.0</td>\n",
       "      <td>40.1</td>\n",
       "      <td>81.77</td>\n",
       "      <td>1.84</td>\n",
       "      <td>2</td>\n",
       "    </tr>\n",
       "    <tr>\n",
       "      <th>3</th>\n",
       "      <td>France</td>\n",
       "      <td>65129728.0</td>\n",
       "      <td>52849078.0</td>\n",
       "      <td>119.0</td>\n",
       "      <td>41.5</td>\n",
       "      <td>83.13</td>\n",
       "      <td>1.95</td>\n",
       "      <td>2</td>\n",
       "    </tr>\n",
       "    <tr>\n",
       "      <th>12</th>\n",
       "      <td>Netherlands</td>\n",
       "      <td>17097130.0</td>\n",
       "      <td>15740995.0</td>\n",
       "      <td>507.0</td>\n",
       "      <td>42.3</td>\n",
       "      <td>82.78</td>\n",
       "      <td>1.72</td>\n",
       "      <td>3</td>\n",
       "    </tr>\n",
       "    <tr>\n",
       "      <th>2</th>\n",
       "      <td>Belgium</td>\n",
       "      <td>11539328.0</td>\n",
       "      <td>11336228.0</td>\n",
       "      <td>381.0</td>\n",
       "      <td>41.5</td>\n",
       "      <td>82.17</td>\n",
       "      <td>1.77</td>\n",
       "      <td>3</td>\n",
       "    </tr>\n",
       "    <tr>\n",
       "      <th>1</th>\n",
       "      <td>Sweden</td>\n",
       "      <td>10036379.0</td>\n",
       "      <td>8817415.0</td>\n",
       "      <td>24.0</td>\n",
       "      <td>40.9</td>\n",
       "      <td>83.33</td>\n",
       "      <td>1.89</td>\n",
       "      <td>4</td>\n",
       "    </tr>\n",
       "    <tr>\n",
       "      <th>7</th>\n",
       "      <td>Norway</td>\n",
       "      <td>5378857.0</td>\n",
       "      <td>4462009.0</td>\n",
       "      <td>15.0</td>\n",
       "      <td>39.3</td>\n",
       "      <td>82.94</td>\n",
       "      <td>1.79</td>\n",
       "      <td>4</td>\n",
       "    </tr>\n",
       "    <tr>\n",
       "      <th>15</th>\n",
       "      <td>Ireland</td>\n",
       "      <td>4882495.0</td>\n",
       "      <td>3073341.0</td>\n",
       "      <td>71.0</td>\n",
       "      <td>36.8</td>\n",
       "      <td>82.81</td>\n",
       "      <td>1.94</td>\n",
       "      <td>4</td>\n",
       "    </tr>\n",
       "  </tbody>\n",
       "</table>\n",
       "</div>"
      ],
      "text/plain": [
       "        Country  Population  Urban Population  Density  Median Age  \\\n",
       "0         Italy  60550075.0        41887345.0    206.0        45.7   \n",
       "5         Spain  46736776.0        37415111.0     94.0        43.0   \n",
       "14  Switzerland   8591365.0         6357099.0    217.0        42.4   \n",
       "11       Greece  10473455.0         8831631.0     81.0        43.8   \n",
       "10     Portugal  10226187.0         6743854.0    112.0        44.3   \n",
       "13      Austria   8955102.0         5129574.0    109.0        43.3   \n",
       "8       Denmark   5771876.0         5081840.0    136.0        41.7   \n",
       "9       Finland   5532156.0         4751986.0     18.0        42.6   \n",
       "4       Germany  83517045.0        63787507.0    240.0        45.9   \n",
       "6            UK  67530172.0        56012276.0    279.0        40.1   \n",
       "3        France  65129728.0        52849078.0    119.0        41.5   \n",
       "12  Netherlands  17097130.0        15740995.0    507.0        42.3   \n",
       "2       Belgium  11539328.0        11336228.0    381.0        41.5   \n",
       "1        Sweden  10036379.0         8817415.0     24.0        40.9   \n",
       "7        Norway   5378857.0         4462009.0     15.0        39.3   \n",
       "15      Ireland   4882495.0         3073341.0     71.0        36.8   \n",
       "\n",
       "    Life Expectancy  Fertility Rate  Labels  \n",
       "0             84.01            1.40       0  \n",
       "5             83.99            1.33       0  \n",
       "14            84.25            1.53       0  \n",
       "11            82.80            1.34       1  \n",
       "10            82.65            1.28       1  \n",
       "13            82.05            1.46       1  \n",
       "8             81.40            1.74       1  \n",
       "9             82.48            1.72       1  \n",
       "4             81.88            1.46       2  \n",
       "6             81.77            1.84       2  \n",
       "3             83.13            1.95       2  \n",
       "12            82.78            1.72       3  \n",
       "2             82.17            1.77       3  \n",
       "1             83.33            1.89       4  \n",
       "7             82.94            1.79       4  \n",
       "15            82.81            1.94       4  "
      ]
     },
     "execution_count": 30,
     "metadata": {},
     "output_type": "execute_result"
    }
   ],
   "source": [
    "countries_df_k5 = countries_df.copy()\n",
    "countries_df_k5[\"Labels\"] = labels\n",
    "countries_df_k5.sort_values(['Labels'], ascending=True)"
   ]
  },
  {
   "cell_type": "markdown",
   "metadata": {
    "button": false,
    "new_sheet": false,
    "run_control": {
     "read_only": false
    }
   },
   "source": [
    "We can easily check the centroid values by averaging the features in each cluster."
   ]
  },
  {
   "cell_type": "code",
   "execution_count": 31,
   "metadata": {
    "button": false,
    "jupyter": {
     "outputs_hidden": false
    },
    "new_sheet": false,
    "run_control": {
     "read_only": false
    }
   },
   "outputs": [
    {
     "data": {
      "text/html": [
       "<div>\n",
       "<style scoped>\n",
       "    .dataframe tbody tr th:only-of-type {\n",
       "        vertical-align: middle;\n",
       "    }\n",
       "\n",
       "    .dataframe tbody tr th {\n",
       "        vertical-align: top;\n",
       "    }\n",
       "\n",
       "    .dataframe thead th {\n",
       "        text-align: right;\n",
       "    }\n",
       "</style>\n",
       "<table border=\"1\" class=\"dataframe\">\n",
       "  <thead>\n",
       "    <tr style=\"text-align: right;\">\n",
       "      <th></th>\n",
       "      <th>Population</th>\n",
       "      <th>Urban Population</th>\n",
       "      <th>Density</th>\n",
       "      <th>Median Age</th>\n",
       "      <th>Life Expectancy</th>\n",
       "      <th>Fertility Rate</th>\n",
       "    </tr>\n",
       "    <tr>\n",
       "      <th>Labels</th>\n",
       "      <th></th>\n",
       "      <th></th>\n",
       "      <th></th>\n",
       "      <th></th>\n",
       "      <th></th>\n",
       "      <th></th>\n",
       "    </tr>\n",
       "  </thead>\n",
       "  <tbody>\n",
       "    <tr>\n",
       "      <th>0</th>\n",
       "      <td>3.862607e+07</td>\n",
       "      <td>2.855318e+07</td>\n",
       "      <td>172.333333</td>\n",
       "      <td>43.70</td>\n",
       "      <td>84.083333</td>\n",
       "      <td>1.420000</td>\n",
       "    </tr>\n",
       "    <tr>\n",
       "      <th>1</th>\n",
       "      <td>8.191755e+06</td>\n",
       "      <td>6.107777e+06</td>\n",
       "      <td>91.200000</td>\n",
       "      <td>43.14</td>\n",
       "      <td>82.276000</td>\n",
       "      <td>1.508000</td>\n",
       "    </tr>\n",
       "    <tr>\n",
       "      <th>2</th>\n",
       "      <td>7.205898e+07</td>\n",
       "      <td>5.754962e+07</td>\n",
       "      <td>212.666667</td>\n",
       "      <td>42.50</td>\n",
       "      <td>82.260000</td>\n",
       "      <td>1.750000</td>\n",
       "    </tr>\n",
       "    <tr>\n",
       "      <th>3</th>\n",
       "      <td>1.431823e+07</td>\n",
       "      <td>1.353861e+07</td>\n",
       "      <td>444.000000</td>\n",
       "      <td>41.90</td>\n",
       "      <td>82.475000</td>\n",
       "      <td>1.745000</td>\n",
       "    </tr>\n",
       "    <tr>\n",
       "      <th>4</th>\n",
       "      <td>6.765910e+06</td>\n",
       "      <td>5.450922e+06</td>\n",
       "      <td>36.666667</td>\n",
       "      <td>39.00</td>\n",
       "      <td>83.026667</td>\n",
       "      <td>1.873333</td>\n",
       "    </tr>\n",
       "  </tbody>\n",
       "</table>\n",
       "</div>"
      ],
      "text/plain": [
       "          Population  Urban Population     Density  Median Age  \\\n",
       "Labels                                                           \n",
       "0       3.862607e+07      2.855318e+07  172.333333       43.70   \n",
       "1       8.191755e+06      6.107777e+06   91.200000       43.14   \n",
       "2       7.205898e+07      5.754962e+07  212.666667       42.50   \n",
       "3       1.431823e+07      1.353861e+07  444.000000       41.90   \n",
       "4       6.765910e+06      5.450922e+06   36.666667       39.00   \n",
       "\n",
       "        Life Expectancy  Fertility Rate  \n",
       "Labels                                   \n",
       "0             84.083333        1.420000  \n",
       "1             82.276000        1.508000  \n",
       "2             82.260000        1.750000  \n",
       "3             82.475000        1.745000  \n",
       "4             83.026667        1.873333  "
      ]
     },
     "execution_count": 31,
     "metadata": {},
     "output_type": "execute_result"
    }
   ],
   "source": [
    "countries_df_k5.groupby('Labels').mean()"
   ]
  },
  {
   "cell_type": "code",
   "execution_count": 32,
   "metadata": {},
   "outputs": [
    {
     "data": {
      "text/plain": [
       "<seaborn.axisgrid.FacetGrid at 0x7fd1d620e810>"
      ]
     },
     "execution_count": 32,
     "metadata": {},
     "output_type": "execute_result"
    },
    {
     "data": {
      "image/png": "[encoded data removed]",
      "text/plain": [
       "<Figure size 402.375x360 with 1 Axes>"
      ]
     },
     "metadata": {
      "needs_background": "light"
     },
     "output_type": "display_data"
    }
   ],
   "source": [
    "plot = sns.lmplot(x='Country',y='Density',data=countries_df_k5,hue='Labels',fit_reg=False)\n",
    "plot.set_xticklabels(rotation=90)"
   ]
  },
  {
   "cell_type": "code",
   "execution_count": 33,
   "metadata": {},
   "outputs": [
    {
     "data": {
      "text/plain": [
       "<seaborn.axisgrid.FacetGrid at 0x7fd1d63e6f50>"
      ]
     },
     "execution_count": 33,
     "metadata": {},
     "output_type": "execute_result"
    },
    {
     "data": {
      "image/png": "[encoded data removed]",
      "text/plain": [
       "<Figure size 402.375x360 with 1 Axes>"
      ]
     },
     "metadata": {
      "needs_background": "light"
     },
     "output_type": "display_data"
    }
   ],
   "source": [
    "plot = sns.lmplot(x='Country',y='Median Age',data=countries_df_k5,hue='Labels',fit_reg=False)\n",
    "plot.set_xticklabels(rotation=90)"
   ]
  },
  {
   "cell_type": "code",
   "execution_count": 34,
   "metadata": {},
   "outputs": [
    {
     "data": {
      "text/plain": [
       "<seaborn.axisgrid.FacetGrid at 0x7fd1d658fc50>"
      ]
     },
     "execution_count": 34,
     "metadata": {},
     "output_type": "execute_result"
    },
    {
     "data": {
      "image/png": "[encoded data removed]",
      "text/plain": [
       "<Figure size 402.375x360 with 1 Axes>"
      ]
     },
     "metadata": {
      "needs_background": "light"
     },
     "output_type": "display_data"
    }
   ],
   "source": [
    "plot = sns.lmplot(x='Country',y='Life Expectancy',data=countries_df_k5,hue='Labels',fit_reg=False)\n",
    "plot.set_xticklabels(rotation=90)"
   ]
  },
  {
   "cell_type": "markdown",
   "metadata": {},
   "source": [
    "----------------------"
   ]
  },
  {
   "cell_type": "markdown",
   "metadata": {
    "button": false,
    "new_sheet": false,
    "run_control": {
     "read_only": false
    }
   },
   "source": [
    "<a id='item1.3'></a>"
   ]
  },
  {
   "cell_type": "markdown",
   "metadata": {},
   "source": [
    "### 1.3 Clusters Visualization: Maps"
   ]
  },
  {
   "cell_type": "code",
   "execution_count": null,
   "metadata": {},
   "outputs": [],
   "source": []
  }
 ],
 "metadata": {
  "kernelspec": {
   "display_name": "Python 3",
   "language": "python",
   "name": "python3"
  },
  "language_info": {
   "codemirror_mode": {
    "name": "ipython",
    "version": 3
   },
   "file_extension": ".py",
   "mimetype": "text/x-python",
   "name": "python",
   "nbconvert_exporter": "python",
   "pygments_lexer": "ipython3",
   "version": "3.7.6"
  },
  "widgets": {
   "state": {},
   "version": "1.1.2"
  }
 },
 "nbformat": 4,
 "nbformat_minor": 4
}
